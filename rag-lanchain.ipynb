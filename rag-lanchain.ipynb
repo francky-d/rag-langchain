{
 "cells": [
  {
   "cell_type": "code",
   "execution_count": 2,
   "id": "683fcae1",
   "metadata": {
    "vscode": {
     "languageId": "shellscript"
    }
   },
   "outputs": [
    {
     "name": "stdout",
     "output_type": "stream",
     "text": [
      "Note: you may need to restart the kernel to use updated packages.\n"
     ]
    }
   ],
   "source": [
    "%pip install --quiet --upgrade langchain-text-splitters langchain-community langgraph"
   ]
  },
  {
   "cell_type": "code",
   "execution_count": 3,
   "id": "c698cca9",
   "metadata": {},
   "outputs": [],
   "source": [
    "# Installing the LLM we will use \n",
    "import os\n",
    "import getpass\n",
    "\n",
    "# First we try to get from environment variable (Docker), then prompt if not available\n",
    "openai_api_key = os.getenv(\"OPENAI_API_KEY\")\n",
    "if not openai_api_key:\n",
    "    openai_api_key = getpass.getpass(\"Enter your OpenAI API key: \")\n",
    "    os.environ[\"OPENAI_API_KEY\"] = openai_api_key\n",
    "\n",
    "from langchain.chat_models import init_chat_model\n",
    "\n",
    "llm = init_chat_model('gpt-4o-mini', model_provider=\"openai\")"
   ]
  },
  {
   "cell_type": "code",
   "execution_count": 4,
   "id": "5f056787",
   "metadata": {
    "vscode": {
     "languageId": "shellscript"
    }
   },
   "outputs": [
    {
     "name": "stdout",
     "output_type": "stream",
     "text": [
      "Note: you may need to restart the kernel to use updated packages.\n"
     ]
    }
   ],
   "source": [
    "# We will now install the embedding model we will use \n",
    "%pip install --quiet --upgrade   langchain-openai"
   ]
  },
  {
   "cell_type": "code",
   "execution_count": 5,
   "id": "df52d5e3",
   "metadata": {},
   "outputs": [],
   "source": [
    "# We will now create an instance of that embedding model \n",
    "import os\n",
    "import getpass\n",
    "\n",
    "# Use the same environment variable as the LLM\n",
    "if not os.environ.get('OPENAI_API_KEY'):\n",
    "    os.environ[\"OPENAI_API_KEY\"] = getpass.getpass(\"Enter your OpenAI API key: \")\n",
    "\n",
    "from langchain_openai import OpenAIEmbeddings\n",
    "    \n",
    "embeddingModel = OpenAIEmbeddings(model=\"text-embedding-3-large\")"
   ]
  },
  {
   "cell_type": "code",
   "execution_count": 6,
   "id": "2474f09c",
   "metadata": {
    "vscode": {
     "languageId": "shellscript"
    }
   },
   "outputs": [
    {
     "name": "stdout",
     "output_type": "stream",
     "text": [
      "Note: you may need to restart the kernel to use updated packages.\n"
     ]
    }
   ],
   "source": [
    "# the embeddings will be store in pgVector. So we install the langchain package that will allow us to do it\n",
    "%pip install -qU langchain-postgres"
   ]
  },
  {
   "cell_type": "code",
   "execution_count": 7,
   "id": "58a90437",
   "metadata": {
    "vscode": {
     "languageId": "shellscript"
    }
   },
   "outputs": [
    {
     "name": "stdout",
     "output_type": "stream",
     "text": [
      "Note: you may need to restart the kernel to use updated packages.\n"
     ]
    }
   ],
   "source": [
    "# this package help python to communicate with postgresql\n",
    "%pip install --quiet psycopg2-binary"
   ]
  },
  {
   "cell_type": "code",
   "execution_count": 8,
   "id": "8254b78e",
   "metadata": {},
   "outputs": [
    {
     "name": "stdout",
     "output_type": "stream",
     "text": [
      "✅ Vector store created successfully!\n"
     ]
    }
   ],
   "source": [
    "\n",
    "import os\n",
    "from langchain_postgres import PGVector\n",
    "\n",
    "# Use environment variables for database connection\n",
    "DB_HOST = os.getenv('POSTGRES_HOST', 'localhost')\n",
    "DB_NAME = os.getenv('POSTGRES_DB', 'mydb')\n",
    "DB_USER = os.getenv('POSTGRES_USER', 'postgres')\n",
    "DB_PASSWORD = os.getenv('POSTGRES_PASSWORD', 'password')\n",
    "\n",
    "try: \n",
    "    vector_store = PGVector(\n",
    "    embeddings=embeddingModel,\n",
    "    collection_name=\"my_docs\", \n",
    "    connection=f\"postgresql://{DB_USER}:{DB_PASSWORD}@{DB_HOST}:5432/{DB_NAME}\"\n",
    "    )   \n",
    "    print(\"✅ Vector store created successfully!\")\n",
    "except Exception as e:\n",
    "    print(f\"❌ Error: {e}\")"
   ]
  }
 ],
 "metadata": {
  "kernelspec": {
   "display_name": "Python 3 (ipykernel)",
   "language": "python",
   "name": "python3"
  },
  "language_info": {
   "codemirror_mode": {
    "name": "ipython",
    "version": 3
   },
   "file_extension": ".py",
   "mimetype": "text/x-python",
   "name": "python",
   "nbconvert_exporter": "python",
   "pygments_lexer": "ipython3",
   "version": "3.11.6"
  }
 },
 "nbformat": 4,
 "nbformat_minor": 5
}

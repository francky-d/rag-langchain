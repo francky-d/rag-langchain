{
 "cells": [
  {
   "cell_type": "code",
   "execution_count": 9,
   "id": "683fcae1",
   "metadata": {
    "vscode": {
     "languageId": "shellscript"
    }
   },
   "outputs": [
    {
     "name": "stdout",
     "output_type": "stream",
     "text": [
      "Note: you may need to restart the kernel to use updated packages.\n"
     ]
    }
   ],
   "source": [
    "%pip install --quiet --upgrade langchain-text-splitters langchain-community langgraph"
   ]
  },
  {
   "cell_type": "code",
   "execution_count": 10,
   "id": "c698cca9",
   "metadata": {},
   "outputs": [],
   "source": [
    "# Installing the LLM we will use \n",
    "import os\n",
    "import getpass\n",
    "\n",
    "# First we try to get from environment variable (Docker), then prompt if not available\n",
    "openai_api_key = os.getenv(\"OPENAI_API_KEY\")\n",
    "if not openai_api_key:\n",
    "    openai_api_key = getpass.getpass(\"Enter your OpenAI API key: \")\n",
    "    os.environ[\"OPENAI_API_KEY\"] = openai_api_key\n",
    "\n",
    "from langchain.chat_models import init_chat_model\n",
    "\n",
    "llm = init_chat_model('gpt-4o-mini', model_provider=\"openai\")"
   ]
  },
  {
   "cell_type": "markdown",
   "id": "7d26ffb2",
   "metadata": {},
   "source": []
  },
  {
   "cell_type": "code",
   "execution_count": 11,
   "id": "5f056787",
   "metadata": {
    "vscode": {
     "languageId": "shellscript"
    }
   },
   "outputs": [
    {
     "name": "stdout",
     "output_type": "stream",
     "text": [
      "Note: you may need to restart the kernel to use updated packages.\n"
     ]
    }
   ],
   "source": [
    "# We will now install the embedding model we will use \n",
    "%pip install --quiet --upgrade   langchain-openai"
   ]
  },
  {
   "cell_type": "code",
   "execution_count": 12,
   "id": "df52d5e3",
   "metadata": {},
   "outputs": [],
   "source": [
    "# We will now create an instance of that embedding model \n",
    "import os\n",
    "import getpass\n",
    "\n",
    "# Use the same environment variable as the LLM\n",
    "if not os.environ.get('OPENAI_API_KEY'):\n",
    "    os.environ[\"OPENAI_API_KEY\"] = getpass.getpass(\"Enter your OpenAI API key: \")\n",
    "\n",
    "from langchain_openai import OpenAIEmbeddings\n",
    "    \n",
    "embeddingModel = OpenAIEmbeddings(model=\"text-embedding-3-large\")"
   ]
  },
  {
   "cell_type": "code",
   "execution_count": 13,
   "id": "2474f09c",
   "metadata": {
    "vscode": {
     "languageId": "shellscript"
    }
   },
   "outputs": [
    {
     "name": "stdout",
     "output_type": "stream",
     "text": [
      "Note: you may need to restart the kernel to use updated packages.\n"
     ]
    }
   ],
   "source": [
    "# the embeddings will be store in pgVector. So we install the langchain package that will allow us to do it\n",
    "%pip install -qU langchain-postgres"
   ]
  },
  {
   "cell_type": "code",
   "execution_count": 14,
   "id": "58a90437",
   "metadata": {
    "vscode": {
     "languageId": "shellscript"
    }
   },
   "outputs": [
    {
     "name": "stdout",
     "output_type": "stream",
     "text": [
      "Note: you may need to restart the kernel to use updated packages.\n"
     ]
    }
   ],
   "source": [
    "# this package help python to communicate with postgresql\n",
    "%pip install --quiet psycopg2-binary"
   ]
  },
  {
   "cell_type": "code",
   "execution_count": 15,
   "id": "8254b78e",
   "metadata": {},
   "outputs": [
    {
     "name": "stdout",
     "output_type": "stream",
     "text": [
      "✅ Vector store created successfully!\n"
     ]
    }
   ],
   "source": [
    "\n",
    "import os\n",
    "from langchain_postgres import PGVector\n",
    "\n",
    "# Use environment variables for database connection\n",
    "DB_HOST = os.getenv('POSTGRES_HOST', 'localhost')\n",
    "DB_NAME = os.getenv('POSTGRES_DB', 'mydb')\n",
    "DB_USER = os.getenv('POSTGRES_USER', 'postgres')\n",
    "DB_PASSWORD = os.getenv('POSTGRES_PASSWORD', 'password')\n",
    "\n",
    "try: \n",
    "    vector_store = PGVector(\n",
    "    embeddings=embeddingModel,\n",
    "    collection_name=\"my_docs\", \n",
    "    connection=f\"postgresql://{DB_USER}:{DB_PASSWORD}@{DB_HOST}:5432/{DB_NAME}\"\n",
    "    )   \n",
    "    print(\"✅ Vector store created successfully!\")\n",
    "except Exception as e:\n",
    "    print(f\"❌ Error: {e}\")"
   ]
  },
  {
   "cell_type": "code",
   "execution_count": 19,
   "id": "ec03e616",
   "metadata": {},
   "outputs": [
    {
     "name": "stdout",
     "output_type": "stream",
     "text": [
      "Total characters: 43047\n"
     ]
    }
   ],
   "source": [
    "# we'll retrieve data from the website : https://lilianweng.github.io/posts/2023-06-23-agent/\n",
    "# and parse the html content to text\n",
    "\n",
    "# web Only keep the HTML tags with class with class “post-content”, “post-title”, or “post-header”\n",
    "\n",
    "import bs4\n",
    "from langchain_community.document_loaders import WebBaseLoader\n",
    "\n",
    "bs4_strainer = bs4.SoupStrainer(class_=(\"post-title\", \"post-header\", \"post-content\"))\n",
    "\n",
    "loader = WebBaseLoader(\n",
    "    web_paths=(\"https://lilianweng.github.io/posts/2023-06-23-agent/\",),\n",
    "    bs_kwargs={\"parse_only\": bs4_strainer},\n",
    ")\n",
    "\n",
    "docs = loader.load()\n",
    "assert len(docs) == 1\n",
    "print(f\"Total characters: {len(docs[0].page_content)}\")\n"
   ]
  },
  {
   "cell_type": "code",
   "execution_count": 26,
   "id": "be3bb8ef",
   "metadata": {},
   "outputs": [
    {
     "name": "stdout",
     "output_type": "stream",
     "text": [
      "Split blog post into 63 sub-documents.\n"
     ]
    }
   ],
   "source": [
    "# Now we need to split the content loaded from the internet into chuncks because it's too large. It's over 40k characters. his number of charactrs (40k+) is above the content length that we can pass as context to many ai model. THat's why  we have to split the document\n",
    "\n",
    "from langchain_text_splitters import RecursiveCharacterTextSplitter\n",
    "\n",
    "text_splitter = RecursiveCharacterTextSplitter(\n",
    "    chunk_size=1000,  # chunk size (characters)\n",
    "    chunk_overlap=200,  # chunk overlap (characters)\n",
    "    add_start_index=True,  # track index in original document\n",
    ")\n",
    "\n",
    "doc_chunks = text_splitter.split_documents(docs)\n",
    "\n",
    "print(f\"Split blog post into {len(doc_chunks)} sub-documents.\")\n"
   ]
  },
  {
   "cell_type": "code",
   "execution_count": null,
   "id": "60244a20",
   "metadata": {},
   "outputs": [],
   "source": []
  }
 ],
 "metadata": {
  "kernelspec": {
   "display_name": "Python 3 (ipykernel)",
   "language": "python",
   "name": "python3"
  },
  "language_info": {
   "codemirror_mode": {
    "name": "ipython",
    "version": 3
   },
   "file_extension": ".py",
   "mimetype": "text/x-python",
   "name": "python",
   "nbconvert_exporter": "python",
   "pygments_lexer": "ipython3",
   "version": "3.11.6"
  }
 },
 "nbformat": 4,
 "nbformat_minor": 5
}
